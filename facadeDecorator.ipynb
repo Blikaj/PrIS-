{
 "cells": [
  {
   "cell_type": "code",
   "execution_count": 9,
   "id": "0f943ef2",
   "metadata": {},
   "outputs": [
    {
     "name": "stdout",
     "output_type": "stream",
     "text": [
      "Start new game\n",
      "Open inventory\n",
      "Manage inventory\n",
      "Logout\n"
     ]
    }
   ],
   "source": [
    "# facade\n",
    "\n",
    "\n",
    "class StartGame:\n",
    "\n",
    "    def start(self):\n",
    "        print(\"Start new game\")\n",
    "\n",
    "\n",
    "class Inventory:\n",
    "\n",
    "    def open(self):\n",
    "        print(\"Open inventory\")\n",
    "        \n",
    "class IntemManager:\n",
    "        \n",
    "    def manage(self):\n",
    "        print(\"Manage inventory\")\n",
    "\n",
    "\n",
    "class Logout:\n",
    "\n",
    "    def quit(self):\n",
    "        print(\"Logout\")\n",
    "\n",
    "\n",
    "class Bot:\n",
    "\n",
    "    def __init__(self):\n",
    "        self.startgame = StartGame()\n",
    "        self.inventory = Inventory()\n",
    "        self.manager = IntemManager()\n",
    "        self.logout = Logout()\n",
    "\n",
    "    def startregister(self):\n",
    "        self.startgame.start()\n",
    "        self.inventory.open()\n",
    "        self.manager.manage()\n",
    "        self.logout.quit()\n",
    "\n",
    "\n",
    "if __name__ == \"__main__\":\n",
    "    bot = Bot()\n",
    "    bot.startregister()\n"
   ]
  },
  {
   "cell_type": "code",
   "execution_count": 12,
   "id": "9037fcda",
   "metadata": {},
   "outputs": [
    {
     "name": "stdout",
     "output_type": "stream",
     "text": [
      "Test\n",
      "<i><u><b>Test</b></u></i>\n"
     ]
    }
   ],
   "source": [
    "#decorator \n",
    "\n",
    "class Text:\n",
    "    def __init__(self, text):\n",
    "        self._text = text\n",
    "\n",
    "    def render(self):\n",
    "        return self._text\n",
    "\n",
    "\n",
    "class Underline(Text):\n",
    "    def __init__(self, wrapped):\n",
    "        self._wrapped = wrapped\n",
    "\n",
    "    def render(self):\n",
    "        return f\"<u>{self._wrapped.render()}</u>\"\n",
    "\n",
    "\n",
    "class Italic(Text):\n",
    "    def __init__(self, wrapped):\n",
    "        self._wrapped = wrapped\n",
    "\n",
    "    def render(self):\n",
    "        return f\"<i>{self._wrapped.render()}</i>\"\n",
    "\n",
    "\n",
    "class Bold(Text):\n",
    "    def __init__(self, wrapped):\n",
    "        self._wrapped = wrapped\n",
    "\n",
    "    def render(self):\n",
    "        return f\"<b>{self._wrapped.render()}</b>\"\n",
    "\n",
    "\n",
    "\n",
    "\n",
    "if __name__ == '__main__':\n",
    "    elem = Text(\"Test\")\n",
    "    res = Italic(Underline(Bold(elem)))\n",
    "\n",
    "    print(elem.render())\n",
    "    print(res.render())\n"
   ]
  },
  {
   "cell_type": "code",
   "execution_count": null,
   "id": "aab2ab0f",
   "metadata": {},
   "outputs": [],
   "source": []
  }
 ],
 "metadata": {
  "kernelspec": {
   "display_name": "Python 3 (ipykernel)",
   "language": "python",
   "name": "python3"
  },
  "language_info": {
   "codemirror_mode": {
    "name": "ipython",
    "version": 3
   },
   "file_extension": ".py",
   "mimetype": "text/x-python",
   "name": "python",
   "nbconvert_exporter": "python",
   "pygments_lexer": "ipython3",
   "version": "3.9.12"
  }
 },
 "nbformat": 4,
 "nbformat_minor": 5
}
